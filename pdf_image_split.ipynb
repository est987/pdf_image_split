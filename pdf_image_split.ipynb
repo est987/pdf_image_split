{
 "cells": [
  {
   "cell_type": "markdown",
   "metadata": {},
   "source": [
    "## Convert PDF to Image"
   ]
  },
  {
   "cell_type": "code",
   "execution_count": 1,
   "metadata": {},
   "outputs": [],
   "source": [
    "#pip install pdf2image\n",
    "## install poppler and add to PATH. SEE: https://pypi.org/project/pdf2image/\n",
    "#conda install -c conda-forge poppler \n",
    "import pdf2image \n",
    "from pdf2image import convert_from_path, convert_from_bytes\n",
    "from pdf2image.exceptions import (\n",
    "    PDFInfoNotInstalledError,\n",
    "    PDFPageCountError,\n",
    "    PDFSyntaxError\n",
    ")\n"
   ]
  },
  {
   "cell_type": "code",
   "execution_count": 2,
   "metadata": {},
   "outputs": [],
   "source": [
    "##Convert pdf to images (PILLOW)\n",
    "images = convert_from_path('data/test.pdf')"
   ]
  },
  {
   "cell_type": "code",
   "execution_count": 3,
   "metadata": {},
   "outputs": [],
   "source": [
    "## function to crop images, by number of width and height sections\n",
    "def cropImages(images, width_sections=2, height_sections=3, w_margin_pct=0, h_margin_pct=0, savepath=''):\n",
    "    '''\n",
    "    images \n",
    "    margin_pct (0 default-100): cuts half of value on each side\n",
    "    '''\n",
    "    for im_i, im in enumerate(images):\n",
    "        # Size of the image in pixels (size of orginal image) \n",
    "        width, height = im.size \n",
    "        \n",
    "        ## CUT MARGINS\n",
    "        # width\n",
    "        try:\n",
    "            if w_margin_pct>0 and w_margin_pct<=100:\n",
    "                \n",
    "        # width/number of section\n",
    "        sec_width = width/width_sections\n",
    "        # height/number of section\n",
    "        sec_height = height/height_sections\n",
    "\n",
    "        #inital top to 0\n",
    "        top = 0\n",
    "        #loop throught number of height sections\n",
    "        for i in range(height_sections):  \n",
    "            #initial left to 0 for each loop\n",
    "            left = 0\n",
    "            for i2 in range(width_sections):\n",
    "                #print(i2)\n",
    "                #right = left plus width of section\n",
    "                right = left+sec_width\n",
    "                #bottom = top plus height of section\n",
    "                bottom = top+ sec_height\n",
    "                #box to crop\n",
    "                box = (left,top,right, bottom)\n",
    "                #crop\n",
    "                a = im.crop(box)\n",
    "                #save image\n",
    "                a.save('{}/{}_{}_{}.jpg'.format(savepath,im_i,i,i2))\n",
    "                #new left equals current right\n",
    "                left = right\n",
    "                #print(box)\n",
    "            #new top equals bottom\n",
    "            top = bottom\n",
    "    \n"
   ]
  },
  {
   "cell_type": "code",
   "execution_count": 4,
   "metadata": {},
   "outputs": [],
   "source": [
    "cropImages(images, width_sections=2, height_sections=3)"
   ]
  },
  {
   "cell_type": "code",
   "execution_count": null,
   "metadata": {},
   "outputs": [],
   "source": []
  }
 ],
 "metadata": {
  "kernelspec": {
   "display_name": "Python 3",
   "language": "python",
   "name": "python3"
  },
  "language_info": {
   "codemirror_mode": {
    "name": "ipython",
    "version": 3
   },
   "file_extension": ".py",
   "mimetype": "text/x-python",
   "name": "python",
   "nbconvert_exporter": "python",
   "pygments_lexer": "ipython3",
   "version": "3.7.7"
  }
 },
 "nbformat": 4,
 "nbformat_minor": 2
}
