{
 "cells": [
  {
   "cell_type": "markdown",
   "metadata": {},
   "source": [
    "## Convert PDF to Image"
   ]
  },
  {
   "cell_type": "code",
   "execution_count": 4,
   "metadata": {},
   "outputs": [],
   "source": [
    "\n",
    "import pdf2image \n",
    "from pdf2image import convert_from_path, convert_from_bytes\n",
    "from pdf2image.exceptions import (\n",
    "    PDFInfoNotInstalledError,\n",
    "    PDFPageCountError,\n",
    "    PDFSyntaxError\n",
    ")\n"
   ]
  },
  {
   "cell_type": "code",
   "execution_count": 5,
   "metadata": {},
   "outputs": [],
   "source": [
    "##Convert pdf to images (PILLOW)\n",
    "pdf_path = 'data/test.pdf'\n"
   ]
  },
  {
   "cell_type": "code",
   "execution_count": 87,
   "metadata": {},
   "outputs": [],
   "source": [
    "## function to crop images, by number of width and height sections\n",
    "def cropImages(pdf_path, width_sections=2, height_sections=3, w_margin_pct=0, h_margin_pct=0, savepath=''):\n",
    "    '''\n",
    "    pdf_path = pdf to split\n",
    "    width/height_sections: number of sections to split\n",
    "    margin_pct (0 default-100): cuts half of value on each side\n",
    "    '''\n",
    "    #convert pdf to images (1 per page)\n",
    "    images = convert_from_path(pdf_path)\n",
    "    #loop through pages\n",
    "    for im_i, im in enumerate(images):\n",
    "       # Size of the image in pixels (size of orginal image) \n",
    "        width, height = im.size \n",
    "        #print(\"size: {}\".format(str(im.size )))\n",
    "        \n",
    "        # crop_im copy\n",
    "        crop_im = im\n",
    "        \n",
    "        ## CUT MARGINS\n",
    "        try:\n",
    "            #width\n",
    "            if w_margin_pct>0 and w_margin_pct<=100:\n",
    "                #crop half of w_margin_pct on left,right\n",
    "                w_margin_cut = width * (w_margin_pct/200)\n",
    "                left = 0 + w_margin_cut\n",
    "                right = width - w_margin_cut\n",
    "                box = (left, 0, right, height)\n",
    "                crop_im = crop_im.crop(box)\n",
    "                width, height = crop_im.size \n",
    "\n",
    "            #height\n",
    "            if h_margin_pct>0 and h_margin_pct<=100:\n",
    "                #crop half of h_margin_pct on top,bottom\n",
    "                h_margin_cut = height * (h_margin_pct/200)\n",
    "                top = 0 + h_margin_cut\n",
    "                bottom = height - h_margin_cut\n",
    "                box = (0, top, width, bottom)\n",
    "                crop_im = crop_im.crop(box)\n",
    "                  # New Size of the image in pixels (size of orginal image) \n",
    "                width, height = crop_im.size \n",
    "\n",
    "        except:\n",
    "            print(\"Invalid margin pct, input value between 0 and 100\")\n",
    "        #print(\"resized image size: {}\".format(crop_im.size))\n",
    "\n",
    "\n",
    "        ##DIVIDE INTO SECTIONS\n",
    "        # im width/number of section\n",
    "        sec_width = width/width_sections\n",
    "        # im height/number of section\n",
    "        sec_height = height/height_sections\n",
    "\n",
    "        #inital top to 0\n",
    "        top = 0\n",
    "        #loop throught number of height sections\n",
    "        for i in range(height_sections):  \n",
    "            #initial left to 0 for each loop\n",
    "            left = 0\n",
    "            for i2 in range(width_sections):            \n",
    "                #right = left plus width of section\n",
    "                right = left+sec_width\n",
    "                #bottom = top plus height of section\n",
    "                bottom = top+ sec_height\n",
    "                #box to crop\n",
    "                box = (left,top,right, bottom)\n",
    "                #print(box)\n",
    "                #crop\n",
    "                a = crop_im.crop(box)\n",
    "                #save image\n",
    "                a.save('{}/{}_{}_{}.jpg'.format(savepath,im_i,i,i2))\n",
    "                #new left equals current right\n",
    "                left = right\n",
    "                \n",
    "                \n",
    "\n",
    "                #print(box)\n",
    "            #new top equals bottom\n",
    "            top = bottom\n",
    "        \n",
    "    ;\n"
   ]
  },
  {
   "cell_type": "code",
   "execution_count": 88,
   "metadata": {},
   "outputs": [],
   "source": [
    "cropImages(images, width_sections=2, height_sections=3,w_margin_pct=30, h_margin_pct=20, savepath='images')"
   ]
  },
  {
   "cell_type": "code",
   "execution_count": null,
   "metadata": {},
   "outputs": [],
   "source": []
  }
 ],
 "metadata": {
  "kernelspec": {
   "display_name": "Python 3",
   "language": "python",
   "name": "python3"
  },
  "language_info": {
   "codemirror_mode": {
    "name": "ipython",
    "version": 3
   },
   "file_extension": ".py",
   "mimetype": "text/x-python",
   "name": "python",
   "nbconvert_exporter": "python",
   "pygments_lexer": "ipython3",
   "version": "3.7.7"
  }
 },
 "nbformat": 4,
 "nbformat_minor": 2
}
